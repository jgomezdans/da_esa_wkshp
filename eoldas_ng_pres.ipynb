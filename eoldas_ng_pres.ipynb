{
 "metadata": {
  "name": ""
 },
 "nbformat": 3,
 "nbformat_minor": 0,
 "worksheets": [
  {
   "cells": [
    {
     "cell_type": "heading",
     "level": 1,
     "metadata": {
      "slideshow": {
       "slide_type": "slide"
      }
     },
     "source": [
      "![](http://static.ucl.ac.uk/img/ucl-logo.svg)\n",
      "\n",
      "``eoldas_ng``: a versatile variational DA scheme"
     ]
    },
    {
     "cell_type": "heading",
     "level": 2,
     "metadata": {
      "slideshow": {
       "slide_type": "-"
      }
     },
     "source": [
      "J G\u00f3mez-Dans"
     ]
    },
    {
     "cell_type": "heading",
     "level": 2,
     "metadata": {
      "slideshow": {
       "slide_type": "-"
      }
     },
     "source": [
      "`j.gomez-dans@ucl.ac.uk`"
     ]
    },
    {
     "cell_type": "heading",
     "level": 2,
     "metadata": {
      "slideshow": {
       "slide_type": "-"
      }
     },
     "source": [
      "National Centre for Earth Observation & UCL"
     ]
    },
    {
     "cell_type": "markdown",
     "metadata": {},
     "source": [
      "![](http://www.nceo.ac.uk/images/NCEO_logo_lrg.jpg)\n"
     ]
    },
    {
     "cell_type": "heading",
     "level": 1,
     "metadata": {
      "slideshow": {
       "slide_type": "slide"
      }
     },
     "source": [
      "What & why `eoldas_ng`?"
     ]
    },
    {
     "cell_type": "markdown",
     "metadata": {
      "slideshow": {
       "slide_type": "subslide"
      }
     },
     "source": [
      "Inverse problems for EO\n",
      "\n",
      "* E.g: Retrieve $LAI$, $[Cab]$, etc from noisy Bottom of Atmosphere **Reflectance**\n",
      "* Remember uncertainties... groan...\n",
      "* inadequate spectral, angular sampling $\\rightsquigarrow$ Very limited information content in observations \n",
      "* Limited observation opportunity due to sensor orbits, cloudiness\n",
      "* Plenty of pretty pictures!\n",
      "* Qualitative approaches based on empirical methods (e.g. NDVI)\n"
     ]
    },
    {
     "cell_type": "markdown",
     "metadata": {
      "slideshow": {
       "slide_type": "subslide"
      }
     },
     "source": [
      "* *\"All I wanted was an estimate of geophysical parameters with error\"*\n",
      "* ... and we gave your 15 different ones!!\n",
      "* Lots of sensors, but...\n",
      "    * Different **spectral** configurations\n",
      "    * Different **spatial** resolution\n",
      "    * Different **angular** sampling\n",
      "    * Different **revisit** period\n",
      "* We want to move towards geophysical parameter sets that use all available data sensibly"
     ]
    },
    {
     "cell_type": "markdown",
     "metadata": {
      "slideshow": {
       "slide_type": "subslide"
      }
     },
     "source": [
      "* `eoldas_ng` provides a framework to retrieve geo/biophysical parameters from EO data\n",
      "* Works by \n",
      "    * Understanding the problem as the **estimation of a state** in space/time\n",
      "    * Using adequate **physically-based models** to interpret EO data\n",
      "    * Allows the judicious ingestion of **prior information**\n",
      "    * Can be used to tie to observations to models of state evolution (e.g. DGVMs)\n",
      "* The system is based on a set of generic blocks that can be assembled together\n",
      "* Plenty of freedom to extend the system and adapt it to the users' needs"
     ]
    },
    {
     "cell_type": "heading",
     "level": 1,
     "metadata": {
      "slideshow": {
       "slide_type": "slide"
      }
     },
     "source": [
      "Some sample problems `eoldas_ng` can (hopefully!) address..."
     ]
    },
    {
     "cell_type": "markdown",
     "metadata": {
      "slideshow": {
       "slide_type": "subslide"
      }
     },
     "source": [
      "* *I'm interested in this site. Can I have a time series of XXXX?*\n",
      "* *I'm interested on landscape scale estimates of XXXX frequently and at very high resolution*\n",
      "* *A sexy new sensor is available. Does it buy my application something new?*\n",
      "* *EO data for this parameter is poor, but I know a lot about it, can we talk?*\n"
     ]
    },
    {
     "cell_type": "heading",
     "level": 1,
     "metadata": {
      "slideshow": {
       "slide_type": "slide"
      }
     },
     "source": [
      "How does `eoldas_ng` work?"
     ]
    },
    {
     "cell_type": "markdown",
     "metadata": {
      "slideshow": {
       "slide_type": "subslide"
      }
     },
     "source": [
      "* Python!!!\n",
      "    * Easy to learn\n",
      "    * Widely available\n",
      "    * Free, no licenses or similar rip-offs\n",
      "    * Scales well to large problems\n",
      "    * Good suite of scientific software available\n",
      "* `eoldas_ng` is a library\n",
      "    * Need to be able to **code**\n",
      "    * But in Python. Easy, remember?\n",
      "* EO focus:\n",
      "    * Optical data\n",
      "    * Passive microwave (*soon*)\n",
      "    * Thermal (*less soon*)"
     ]
    },
    {
     "cell_type": "heading",
     "level": 1,
     "metadata": {
      "slideshow": {
       "slide_type": "slide"
      }
     },
     "source": [
      "``eoldas_ng`` architecture"
     ]
    },
    {
     "cell_type": "markdown",
     "metadata": {},
     "source": [
      "Fundamentally, two types of blocks:\n",
      "\n",
      "* **``State``** ($\\vec{\\mathbf{x}}$)\n",
      "    * Defines the grid of the problem and parameter boundaries\n",
      "    * Defines parameter transformations\n",
      "    * Tasks:\n",
      "        1. Minimises the state\n",
      "        2. Calculate uncertainty\n",
      "        3. Book keeping\n",
      "        \n",
      "        \n",
      "* **``Operators``** ($J_{xxx}(\\vec{\\mathbf{x}})$)\n",
      "    * Define different components of cost function (prior, observations etc.)\n",
      "    * Two methods:\n",
      "        1. Calculate cost function & partial derivatives for a value of $\\vec{\\mathbf{x}}$\n",
      "        2. Calculate cost function Hessian at $\\vec{\\mathbf{x}}$\n"
     ]
    },
    {
     "cell_type": "markdown",
     "metadata": {
      "slideshow": {
       "slide_type": "slide"
      }
     },
     "source": [
      "* The **``State``** is set at the start to define the problem.\n",
      "* Define parameters, as well as how they will be interpreted:\n",
      "    * **``FIXED``** Use a default value\n",
      "    * **``CONSTANT``** Single value of this parameter used for the entire assim window\n",
      "    * **``VARIABLE``** Infer value of state for each element of the state grid\n",
      "* Different operators are attached to the **``State``**\n",
      "* The state has a ``optimise`` method to find $\\vec{x}_{MAP}$ and $\\mathbf{C}_{post}$\n"
     ]
    },
    {
     "cell_type": "markdown",
     "metadata": {
      "slideshow": {
       "slide_type": "subslide"
      }
     },
     "source": [
      "Each **``Operator``** implements a components of $J(\\vec{\\mathbf{x}})$:\n",
      "\n",
      "$$\n",
      "\\begin{align}\n",
      "J(\\vec{x}) &=  (\\vec{x} - \\vec{x}_{b})^{\\top}\\mathbf{C}_{b}^{-1} (\\vec{x} - \\vec{x}_{b})\\qquad \\text{Prior}\\\\\n",
      "&+(\\vec{y} - \\mathcal{H}(\\vec{x}))^{\\top}\\mathbf{C}_{obs}^{-1} (\\vec{y} - \\mathcal{H}(\\vec{x}))\\qquad \\text{Observations}\\\\\n",
      "&+(\\vec{x} - \\mathcal{M}(\\vec{x}))^{\\top}\\mathbf{C}_{model}^{-1} (\\vec{x} - \\mathcal{M}(\\vec{x}))\\qquad \\text{Model}\n",
      "\\end{align}\n",
      "$$\n",
      "\n",
      "They provide two methods: **``der_cost``** and **``der_der_cost``** calcuting\n",
      "\n",
      "* cost and partial derivatives for given state\n",
      "* Hessian for given state"
     ]
    },
    {
     "cell_type": "heading",
     "level": 1,
     "metadata": {
      "slideshow": {
       "slide_type": "slide"
      }
     },
     "source": [
      "Emulation"
     ]
    },
    {
     "cell_type": "markdown",
     "metadata": {
      "slideshow": {
       "slide_type": "subslide"
      }
     },
     "source": [
      "* Complex observation operators and models are typically required\n",
      "* They are computationally expensive\n",
      "* Use **emulators**\n",
      "    * Functions that approximate the complicated model\n",
      "    * Provide an estimate of uncertainty\n",
      "    * Deal with non-linear models well\n",
      "* In practice, you need a training set of\n",
      "    1. Model parameters\n",
      "    2. Model output\n",
      "* Training is straightforward\n",
      "* Use **``gp_emulator``** Python package for emulation needs"
     ]
    },
    {
     "cell_type": "heading",
     "level": 1,
     "metadata": {
      "slideshow": {
       "slide_type": "slide"
      }
     },
     "source": [
      "\"Recipe\" ![](http://www.botham.co.uk/seed/recipe.gif)"
     ]
    },
    {
     "cell_type": "heading",
     "level": 3,
     "metadata": {
      "slideshow": {
       "slide_type": "subslide"
      }
     },
     "source": [
      "Set **``State``**"
     ]
    },
    {
     "cell_type": "markdown",
     "metadata": {
      "slideshow": {
       "slide_type": "-"
      }
     },
     "source": [
      "1. Set state boundaries (if using)\n",
      "2. Set state grid for the output (e.g. time axis)\n",
      "3. Set transformations and inverse transformations (if using)\n",
      "4. Set parameters and whether they are **``FIXED``**, **``CONSTANT``** or **``VARIABLE``**\n",
      "5. Set default parameter values\n",
      "\n",
      "Mostly using `OrderedDict` data type, e.g.\n",
      "```python\n",
      "state_config = OrderedDict()\n",
      "state_config['magnitude'] = VARIABLE\n",
      "```"
     ]
    },
    {
     "cell_type": "markdown",
     "metadata": {},
     "source": [
      "```python\n",
      "\n",
      "    state = State ( state_config, state_grid, default_par, \\\n",
      "            parameter_min, parameter_max, verbose=False)\n",
      "```"
     ]
    },
    {
     "cell_type": "heading",
     "level": 3,
     "metadata": {
      "slideshow": {
       "slide_type": "slide"
      }
     },
     "source": [
      "Operators"
     ]
    },
    {
     "cell_type": "markdown",
     "metadata": {},
     "source": [
      "* This is *very* operator dependent!!!\n",
      "* Ultimately, operators are part of the state:\n",
      "\n",
      "```python\n",
      "\n",
      "    state.add_operator ( \"Prior\", prior )\n",
      "    state.add_operator ( \"Model\", temporal )\n",
      "    state.add_operator ( \"Observations\", obs )\n",
      "\n",
      "```\n"
     ]
    },
    {
     "cell_type": "heading",
     "level": 3,
     "metadata": {
      "slideshow": {
       "slide_type": "slide"
      }
     },
     "source": [
      "Optimise!!!"
     ]
    },
    {
     "cell_type": "markdown",
     "metadata": {},
     "source": [
      "```python\n",
      "    retval = state.optimize (x0 = x_dict )\n",
      "```\n",
      "``retval`` is a dictionary with the following keys:\n",
      "\n",
      "**``real_map``**\n",
      "    The MAP estimate in real units\n",
      "    \n",
      "**``real_ci5pc``** and **``real_ci95pc``**\n",
      "    The 5 and 95% Credible Intervals\n",
      "    \n",
      "**``post_cov``**\n",
      "    Posterior covariance matrix\n",
      "    \n",
      "**``sigma_post``**\n",
      "    Main diagonal elements of the posterior covariance matrix"
     ]
    },
    {
     "cell_type": "heading",
     "level": 1,
     "metadata": {
      "slideshow": {
       "slide_type": "slide"
      }
     },
     "source": [
      "Sequential processing"
     ]
    },
    {
     "cell_type": "markdown",
     "metadata": {},
     "source": [
      "* In many cases, we might want to do spatial & temporal processing\n",
      "    * E.g. time series of Landsat TM & MODIS data\n",
      "* Easier way to do this is do each image individually\n",
      "* And feed posterior as prior for next image\n",
      "* Remember to add some uncertainty inflation\n",
      "* Basically, a *variational Kalman Filter!*"
     ]
    },
    {
     "cell_type": "heading",
     "level": 1,
     "metadata": {
      "slideshow": {
       "slide_type": "slide"
      }
     },
     "source": [
      "Univariate time series"
     ]
    },
    {
     "cell_type": "heading",
     "level": 1,
     "metadata": {},
     "source": [
      "Timeseries of BOA reflectance interpreted by RT models"
     ]
    },
    {
     "cell_type": "heading",
     "level": 1,
     "metadata": {},
     "source": [
      "Spatial blending"
     ]
    },
    {
     "cell_type": "code",
     "collapsed": false,
     "input": [
      "from IPython.display import HTML\n",
      "HTML(\"\"\"\n",
      "<style> \n",
      "\n",
      "div.cell {\n",
      "  width: 940px;\n",
      "  margin-left: auto;\n",
      "  margin-right: auto;\n",
      "}\n",
      "\n",
      ".rendered_html {\n",
      "  font-size: 123%;\n",
      "}\n",
      "\n",
      "</style>\"\"\")"
     ],
     "language": "python",
     "metadata": {
      "slideshow": {
       "slide_type": "notes"
      }
     },
     "outputs": [
      {
       "html": [
        "\n",
        "<style> \n",
        "\n",
        "div.cell {\n",
        "  width: 940px;\n",
        "  margin-left: auto;\n",
        "  margin-right: auto;\n",
        "}\n",
        "\n",
        ".rendered_html {\n",
        "  font-size: 123%;\n",
        "}\n",
        "\n",
        "</style>"
       ],
       "metadata": {},
       "output_type": "pyout",
       "prompt_number": 1,
       "text": [
        "<IPython.core.display.HTML at 0x1c9da10>"
       ]
      }
     ],
     "prompt_number": 1
    }
   ],
   "metadata": {}
  }
 ]
}