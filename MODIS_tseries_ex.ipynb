{
 "metadata": {
  "name": ""
 },
 "nbformat": 3,
 "nbformat_minor": 0,
 "worksheets": [
  {
   "cells": [
    {
     "cell_type": "code",
     "collapsed": false,
     "input": [
      "# Initial set-up\n",
      "import os\n",
      "import json\n",
      "import urllib2\n",
      "import matplotlib\n",
      "s = json.load ( urllib2.urlopen(\"https://github.com/CamDavidsonPilon/Probabilistic-Programming-and-Bayesian-Methods-for-Hackers/raw/master/styles/bmh_matplotlibrc.json\"))\n",
      "matplotlib.rcParams.update(s)\n",
      "%pylab inline\n",
      "figsize( 8,8)"
     ],
     "language": "python",
     "metadata": {},
     "outputs": [
      {
       "output_type": "stream",
       "stream": "stdout",
       "text": [
        "Populating the interactive namespace from numpy and matplotlib\n"
       ]
      }
     ],
     "prompt_number": 1
    },
    {
     "cell_type": "markdown",
     "metadata": {},
     "source": [
      "We start by importing a number of required Python libraries:\n",
      "\n",
      "``collections``\n",
      "        Required to have ``OrderedDict``, an ordered dictionary\n",
      "    \n",
      "``gp_emulator``\n",
      "        We will use the ``gp_emulator`` package to do fast emulation of RTM\n",
      "\n",
      "``eoldas_ng``\n",
      "        This is the main ``eoldas_ng`` library"
     ]
    },
    {
     "cell_type": "code",
     "collapsed": false,
     "input": [
      "from collections import OrderedDict\n",
      "from gp_emulator import *\n",
      "from eoldas_ng import *\n"
     ],
     "language": "python",
     "metadata": {},
     "outputs": [],
     "prompt_number": 2
    },
    {
     "cell_type": "heading",
     "level": 3,
     "metadata": {},
     "source": [
      "Defining the state"
     ]
    },
    {
     "cell_type": "markdown",
     "metadata": {},
     "source": [
      "We need to define the state. This mostly means populating some dictionaries with definitions of the variables we'll be using. Let's start by ``state_config``, a dictionary that instructs ``eoldas_ng`` whether variables are set to a default value (``FIXED``), to a constant value throughtout time (``CONSTANT``) or variable over time (``VARIABLE``)."
     ]
    },
    {
     "cell_type": "code",
     "collapsed": false,
     "input": [
      "state_config = OrderedDict ()\n",
      "\n",
      "state_config['n'] = FIXED\n",
      "state_config['cab'] = VARIABLE\n",
      "state_config['car'] = FIXED\n",
      "state_config['cbrown'] = FIXED\n",
      "state_config['cw'] = VARIABLE\n",
      "state_config['cm'] = FIXED\n",
      "state_config['lai'] = VARIABLE\n",
      "state_config['ala'] = FIXED\n",
      "state_config['bsoil'] = FIXED\n",
      "state_config['psoil'] = FIXED\n"
     ],
     "language": "python",
     "metadata": {},
     "outputs": [],
     "prompt_number": 3
    },
    {
     "cell_type": "markdown",
     "metadata": {},
     "source": [
      "Next, we set the default value of the parameters. In case we are not solving for them, the observation operator will be set to whatever is here. In this case, we will also use them as prior means, but that's just for convenience, you don't have to!"
     ]
    },
    {
     "cell_type": "code",
     "collapsed": false,
     "input": [
      "default_par = OrderedDict ()\n",
      "default_par['n'] = 1.5\n",
      "default_par['cab'] = 40.\n",
      "default_par['car'] = 10.\n",
      "default_par['cbrown'] = 0.01\n",
      "default_par['cw'] = 0.018 # Say?\n",
      "default_par['cm'] = 0.0065 # Say?\n",
      "default_par['lai'] = 2\n",
      "default_par['ala'] = 45.\n",
      "default_par['bsoil'] = 1.\n",
      "default_par['psoil'] = 0.1\n"
     ],
     "language": "python",
     "metadata": {},
     "outputs": [],
     "prompt_number": 4
    },
    {
     "cell_type": "markdown",
     "metadata": {},
     "source": [
      "We provide some boundaries. Currently, this is implemented as a crude boundar in the optimiser. "
     ]
    },
    {
     "cell_type": "code",
     "collapsed": false,
     "input": [
      "parameter_min = OrderedDict()\n",
      "parameter_max = OrderedDict()\n",
      "        \n",
      "min_vals = [ 0.8, 0.2, 0.0, 0.0, 0.0043, 0.0017,0.01, 40, 0., 0., 0.]\n",
      "max_vals = [2.5, 77., 5., 1., 0.0753, 0.0331, 8., 50., 2., 1.]\n",
      "\n",
      "for i, param in enumerate ( state_config.keys() ):\n",
      "    parameter_min[param] = min_vals[i]\n",
      "    parameter_max[param] = max_vals[i]\n"
     ],
     "language": "python",
     "metadata": {},
     "outputs": [],
     "prompt_number": 5
    },
    {
     "cell_type": "markdown",
     "metadata": {},
     "source": [
      "Remember all that stuff about the assumptions on variational methods? All that Gaussian & linear stuff? Well, if your model (in our case, the observation operator) ain't linear, you can deploy transformations that quasi-linearise it. These are quite rough'n'ready, but appear to work well. We define the transformations from real parameter to transformed parameter, as well as the inverse transformations, and store them in dictionaries, with each key containing a function, so if you want to transform an LAI of 3.5, you'd do ``transformations['lai'](3.5)``"
     ]
    },
    {
     "cell_type": "code",
     "collapsed": false,
     "input": [
      "# Define parameter transformations\n",
      "transformations = {\n",
      "            'lai': lambda x: np.exp ( -x/2. ), \\\n",
      "            'cab': lambda x: np.exp ( -x/100. ), \\\n",
      "            'car': lambda x: np.exp ( -x/100. ), \\\n",
      "            'cw': lambda x: np.exp ( -50.*x ), \\\n",
      "            'cm': lambda x: np.exp ( -100.*x ), \\\n",
      "            'ala': lambda x: x/90. }\n",
      "inv_transformations = {\n",
      "            'lai': lambda x: -2*np.log ( x ), \\\n",
      "            'cab': lambda x: -100*np.log ( x ), \\\n",
      "            'car': lambda x: -100*np.log( x ), \\\n",
      "            'cw': lambda x: (-1/50.)*np.log ( x ), \\\n",
      "            'cm': lambda x: (-1/100.)*np.log ( x ), \\\n",
      "            'ala': lambda x: 90.*x }"
     ],
     "language": "python",
     "metadata": {},
     "outputs": [],
     "prompt_number": 6
    },
    {
     "cell_type": "markdown",
     "metadata": {},
     "source": [
      "We now define the state grid (the reference space for our problem, in this case, we have a daily annual grid), and  build the state using the ``State`` from ``eoldas_ng``. We also set the transforms. Note that when we are done with the next block of code, the problem is more or less set: what variables we're solving for, boundaries, transforms, etc."
     ]
    },
    {
     "cell_type": "code",
     "collapsed": false,
     "input": [
      "# Define the state grid. In time in this case\n",
      "state_grid = np.arange ( 1, 366)\n",
      "        \n",
      "# Define the state\n",
      "# L'etat, c'est moi\n",
      "state = State ( state_config, state_grid, default_par, \\\n",
      "            parameter_min, parameter_max, verbose=False)\n",
      "# Set the transformations\n",
      "state.set_transformations ( transformations, inv_transformations )\n"
     ],
     "language": "python",
     "metadata": {},
     "outputs": [],
     "prompt_number": 7
    },
    {
     "cell_type": "heading",
     "level": 3,
     "metadata": {},
     "source": [
      "The operators"
     ]
    },
    {
     "cell_type": "markdown",
     "metadata": {},
     "source": [
      "We have defined the state, but no cost function operators. We will define a prior, a temporal smoother and a fit to the observations operator. The prior uses the ``Prior`` class, which requires ordered dictionaries of prior means per parameter, and prior inverse variances. Again, remember that the assumption here is that the prior is Gaussian. There's an opportunity to define the prior in terms of vectors and sparse matrices, but we won't be using it here.\n",
      "\n",
      "Note that prior parameters are provided in **transformed units**!!!"
     ]
    },
    {
     "cell_type": "code",
     "collapsed": false,
     "input": [
      "mu_prior = OrderedDict ()\n",
      "prior_inv_cov = OrderedDict ()\n",
      "prior_inv_cov['n'] = np.array([1])\n",
      "prior_inv_cov['cab'] = np.array([0.8])\n",
      "prior_inv_cov['car'] = np.array([1])\n",
      "prior_inv_cov['cbrown'] = np.array([1])\n",
      "prior_inv_cov['cw'] = np.array([1])\n",
      "prior_inv_cov['cm'] = np.array([1])\n",
      "prior_inv_cov['lai'] = np.array([0.8])\n",
      "prior_inv_cov['ala'] = np.array([1])\n",
      "prior_inv_cov['bsoil'] = np.array([2])\n",
      "prior_inv_cov['psoil'] = np.array([2])\n",
      "    \n",
      "for param in state.parameter_min.iterkeys():\n",
      "    if transformations.has_key ( param ):\n",
      "        mu_prior[param] = transformations[param]( \\\n",
      "                np.array([default_par[param]]) )\n",
      "    else:\n",
      "        mu_prior[param] = np.array([default_par[param]])\n",
      "    prior_inv_cov[param] = 1./prior_inv_cov[param]**2\n",
      "\n",
      "prior = Prior ( mu_prior, prior_inv_cov )"
     ],
     "language": "python",
     "metadata": {},
     "outputs": [],
     "prompt_number": 8
    },
    {
     "cell_type": "markdown",
     "metadata": {},
     "source": [
      "The smoother is quite simple to invoke: we use the ``TemporalSmoother`` class, pass the ``state_grid``, the regularisation parameter (or a list of parameters if we want to have a different amount of regularisation per parameter), and the parameters that we will apply it to. In this case, we apply a value of 10000 to LAI, Cab and Cw:"
     ]
    },
    {
     "cell_type": "code",
     "collapsed": false,
     "input": [
      "temporal = TemporalSmoother ( state_grid, 10000, required_params=[\"lai\", \"cab\", \"cw\"] )"
     ],
     "language": "python",
     "metadata": {},
     "outputs": [],
     "prompt_number": 9
    },
    {
     "cell_type": "markdown",
     "metadata": {},
     "source": [
      "Next come the observations. These were simulated using the PROSAIL model. To simplify this example, each observation has been acquired with the same acquisition geometry (sza=vza=15). Note that this is unlikely to happen!!!\n",
      "\n",
      "We will be loading them up from a file, and we need to define the spectral sampling of the sensors, in this case MODIS. We use standard numpy idiomos to accomplish this:"
     ]
    },
    {
     "cell_type": "code",
     "collapsed": false,
     "input": [
      "d = np.loadtxt(\"MODIS_obs.txt\")\n",
      "doys = d[:,0]\n",
      "vza = d[:, 1]\n",
      "sza = d[:, 2]\n",
      "raa = d[:, 3]\n",
      "rho = d[:, 4: ]\n",
      "b_min = np.array( [ 620., 841, 459, 545, 1230, 1628, 2105] )\n",
      "b_max = np.array( [ 670., 876, 479, 565, 1250, 1652, 2155] )"
     ],
     "language": "python",
     "metadata": {},
     "outputs": [],
     "prompt_number": 10
    },
    {
     "cell_type": "markdown",
     "metadata": {},
     "source": [
      "In the next code snippet, we create the emulators of the PROSAIL RT model. For expediency, these are already provided for a given geometry. In practice, one would produce an angular sampling scheme that is adequate for the observations. Creating the emulators does take a few minutes, but only needs to be done once, then you can load them up as we do here. The ``gp_emulator`` method has a more useful and robust emulator storage method, but we will use the direct method here!\n",
      "\n",
      "The provided emulators have an RMSE error in emulation of an independent model set of ~0.005 in units of reflectance, a very small number."
     ]
    },
    {
     "cell_type": "code",
     "collapsed": false,
     "input": [
      "# Code to load/create the emulators\n",
      "angles = [ [15, 15, 0] ]\n",
      "emulators = {}\n",
      "for i,(s,v,r) in enumerate(angles):     \n",
      "    fname = \"%02d_sza_%02d_vza_000_raa\" % (s,v)\n",
      "    emulators[(v,s)]= MultivariateEmulator ( dump=fname + \".npz\" )"
     ],
     "language": "python",
     "metadata": {},
     "outputs": [
      {
       "output_type": "stream",
       "stream": "stdout",
       "text": [
        "Decomposing the input dataset into basis functions... "
       ]
      },
      {
       "output_type": "stream",
       "stream": "stdout",
       "text": [
        "Done!\n",
        " ====> Using 7 basis functions\n"
       ]
      }
     ],
     "prompt_number": 12
    },
    {
     "cell_type": "markdown",
     "metadata": {},
     "source": [
      "Now, we define a number of spectral quantities, such sa the band pass characterisitics of MODIS (a boolean array indicating what samples go into different bands), the per band uncertainty. We only require the `b_min` and `b_max` definitions of each band (the minimum and maximum value), as well as how the uncertainty evolves with band. In this case, we have a linear increase."
     ]
    },
    {
     "cell_type": "code",
     "collapsed": false,
     "input": [
      "wv = np.arange ( 400, 2501 )\n",
      "n_bands = b_min.shape[0]\n",
      "band_pass = np.zeros(( n_bands,2101), dtype=np.bool)\n",
      "bw = np.zeros( n_bands )\n",
      "bh = np.zeros( n_bands )\n",
      "for i in xrange( n_bands ):\n",
      "    band_pass[i,:] = np.logical_and ( wv >= b_min[i], \\\n",
      "                wv <= b_max[i] )\n",
      "    bw[i] = b_max[i] - b_min[i]\n",
      "    bh[i] = ( b_max[i] + b_min[i] )/2.\n",
      "    \n",
      "sigma_min = 0.001\n",
      "sigma_max = 0.04\n",
      "sigma_obs = (sigma_max - sigma_min)*(bh-bh.min())/(bh.max()-bh.min())\n",
      "sigma_obs += sigma_min\n",
      "bu = sigma_obs #+ rmse # emulator noise!\n",
      "print \"Per Band uncertainty:\"\n",
      "print bu"
     ],
     "language": "python",
     "metadata": {},
     "outputs": [
      {
       "output_type": "stream",
       "stream": "stdout",
       "text": [
        "Per Band uncertainty:\n",
        "[ 0.00513245  0.01014539  0.001       0.00301927  0.01910295  0.02849488\n",
        "  0.04      ]\n"
       ]
      }
     ],
     "prompt_number": 13
    },
    {
     "cell_type": "markdown",
     "metadata": {},
     "source": [
      "Time to pack the observations into something useful. The observation operator works with observations packed on a daily array, and with a mask or metadata array that contains 4 pieces of information per day: a QA flag, and VZA, SZA and RAA."
     ]
    },
    {
     "cell_type": "code",
     "collapsed": false,
     "input": [
      "rho_big = np.zeros(( n_bands, 365))\n",
      "mask = np.zeros(( 365, 4))\n",
      "\n",
      "for i in state_grid:\n",
      "    if i in doys:\n",
      "        rho_big[:, i] = rho[doys==i, :].squeeze()\n",
      "        mask[ i, :] = [ 1, vza[doys==i], sza[doys==i],  raa[doys==i] ]"
     ],
     "language": "python",
     "metadata": {},
     "outputs": [],
     "prompt_number": 14
    },
    {
     "cell_type": "markdown",
     "metadata": {},
     "source": [
      "Finally, it's time to combine all this into the observation operator. This needs the state, state grid, observations, observations mask, the emulators stored as a dictionary index by vza and sza, band uncertainty, band pass functions and bandwidth in nm per band. All this has been defined previously:"
     ]
    },
    {
     "cell_type": "code",
     "collapsed": false,
     "input": [
      "obs_modis = ObservationOperatorTimeSeriesGP( state_grid, state, rho_big, mask, \\\n",
      "                                      emulators, bu, band_pass, bw )"
     ],
     "language": "python",
     "metadata": {},
     "outputs": [],
     "prompt_number": 15
    },
    {
     "cell_type": "markdown",
     "metadata": {},
     "source": [
      "Once the components of the cost function have been defined, we add them to the state, giving them a name (a text string). This allows for controlling the evolution of the minimisation."
     ]
    },
    {
     "cell_type": "code",
     "collapsed": false,
     "input": [
      "state.add_operator(\"Prior\", prior )\n",
      "state.add_operator(\"Temporal\", temporal)\n",
      "state.add_operator(\"MODIS\", obs_modis )"
     ],
     "language": "python",
     "metadata": {},
     "outputs": [],
     "prompt_number": 16
    },
    {
     "cell_type": "markdown",
     "metadata": {},
     "source": [
      "So the problem is now set, we just need to solve it. One thing that is found useful is to have a reasonable starting value. We do this by creating a parameter dictionary, and giving it a rough estimate of LAI (a rough cosine form, but you could have used NDVI interpolated if you wanted to), and random numbers for Cab and Cw:"
     ]
    },
    {
     "cell_type": "code",
     "collapsed": false,
     "input": [
      "x_dict = {}\n",
      "\n",
      "x_dict['lai'] = np.random.randn(365)*5\n",
      "x_dict['cab'] = 40*np.random.randn(365)\n",
      "x_dict['cw'] = 0.08*np.random.randn(365)"
     ],
     "language": "python",
     "metadata": {},
     "outputs": [],
     "prompt_number": 17
    },
    {
     "cell_type": "markdown",
     "metadata": {},
     "source": [
      "Now, let's start the minimisation. We pass the starting value, and tell ``state.optimize`` to also calculate the uncertainty. This will take a while..."
     ]
    },
    {
     "cell_type": "code",
     "collapsed": false,
     "input": [
      "%time retval = state.optimize ( x_dict, do_unc=True )"
     ],
     "language": "python",
     "metadata": {},
     "outputs": [
      {
       "output_type": "stream",
       "stream": "stdout",
       "text": [
        "CPU times: user 56min 51s, sys: 1min 45s, total: 58min 36s\n",
        "Wall time: 5min 28s\n"
       ]
      }
     ],
     "prompt_number": 20
    },
    {
     "cell_type": "code",
     "collapsed": false,
     "input": [
      "import matplotlib.pyplot as plt\n",
      "# Read out the \"truth\"\n",
      "parameter_grid = np.loadtxt(\"MODIS_parameters.txt\")\n",
      "%pylab inline\n",
      "params = ['cab', 'cw', 'lai']\n",
      "titles = [\"Cab $[\\mu g\\,cm^{-2}]$\", \"Cw $[cm^{-1}]$\", \"LAI $[m^{2}\\cdot m^{-2}]$\"]\n",
      "grido = [ 1, 4, 6]\n",
      "fig, axs = plt.subplots(3, 1, sharex=True, figsize=(7,11) )\n",
      "\n",
      "for i,ax in enumerate(axs):\n",
      "    ax.plot ( state_grid, retval['real_map'][params[i]], '-', lw=3)\n",
      "    ax.fill_between(state_grid, retval['real_ci5pc'][params[i]], \\\n",
      "                 retval['real_ci95pc'][params[i]], facecolor=\"0.8\")\n",
      "    ax.plot ( state_grid, parameter_grid[grido[i], :], '--', lw=1.5 )\n",
      "    ax.grid ( False )\n",
      "    ax.locator_params(nbins=4)\n",
      "    [ax.axvline(d, lw=0.1, c=\"k\") for d in doys]\n",
      "    ax.set_ylabel( titles[i] )\n",
      "    if i == 2:\n",
      "        ax.set_xlabel ( \"DoY [-]\" )\n",
      "plt.savefig(\"modis_result.pdf\")"
     ],
     "language": "python",
     "metadata": {},
     "outputs": [
      {
       "output_type": "stream",
       "stream": "stdout",
       "text": [
        "Populating the interactive namespace from numpy and matplotlib\n"
       ]
      },
      {
       "metadata": {},
       "output_type": "display_data",
       "png": "[encoded data removed]",
       "text": [
        "<matplotlib.figure.Figure at 0x2b3ce92f5f90>"
       ]
      }
     ],
     "prompt_number": 25
    },
    {
     "cell_type": "markdown",
     "metadata": {},
     "source": [
      "The minimisation took around 1000 iterations, although most of the bulk of minimising the cost function is done in the first 10-20 iterations. Having these many iterations suggests that the cost function is fairly flat over a large area.\n",
      "\n",
      "In the results above, we see that the truth is tracked relatively well. The leaf-related parameters are poorly estimated at the beginning and end of the season, where $LAI$ is low (i.e., there is little sensitivity in low LAI regions). We also see that peak $LAI$ appears to be underestimated, but with a fairly large uncertainty. This is due to saturation of $LAI$ over ~2-3. When this kicks in, the regularisation constraint pulls the state back to a more conservative trajectory.\n",
      "\n",
      "Note also how the \"bumps\" in the uncertainty relate to the observations (vertical grey bars). This is sensible: in these areas, where are moving away from the observations, and being controlled only by the model and prior constraints, resulting in a sort of interpolation. The uncertainty reflects this.\n"
     ]
    },
    {
     "cell_type": "code",
     "collapsed": false,
     "input": [],
     "language": "python",
     "metadata": {},
     "outputs": []
    }
   ],
   "metadata": {}
  }
 ]
}